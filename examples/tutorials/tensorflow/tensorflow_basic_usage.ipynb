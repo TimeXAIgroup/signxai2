{
 "cells": [
  {
   "cell_type": "markdown",
   "metadata": {},
   "source": [
    "# SignXAI2 TensorFlow Tutorial - Image Classification\n",
    "\n",
    "This tutorial demonstrates how to use SignXAI2 for explaining image classification models with TensorFlow.\n",
    "\n",
    "## Setup\n",
    "\n",
    "⚠️ **Data Requirements**: This tutorial requires example data from the GitHub repository. Please ensure you have downloaded the necessary data files or cloned the repository.\n",
    "\n",
    "First, let's download the signxai2 package and a sample image to work with:"
   ]
  },
  {
   "cell_type": "code",
   "execution_count": null,
   "metadata": {},
   "outputs": [],
   "source": [
    "# Download the signxai2 package if not already installed\n",
    " !pip install signxai2[tensorflow]\n",
    "\n",
    "# Download an example image\n",
    "import urllib.request\n",
    "\n",
    "# Download an image of a dog\n",
    "url = \"http://vision.stanford.edu/aditya86/ImageNetDogs/images/n02106030-collie/n02106030_16370.jpg\"\n",
    "urllib.request.urlretrieve(url, \"dog.jpg\")"
   ]
  },
  {
   "cell_type": "markdown",
   "metadata": {},
   "source": [
    "## TensorFlow Implementation\n",
    "\n",
    "Let's use a pre-trained VGG16 model with TensorFlow:"
   ]
  },
  {
   "cell_type": "code",
   "execution_count": null,
   "metadata": {},
   "outputs": [],
   "source": [
    "import numpy as np\n",
    "import matplotlib.pyplot as plt\n",
    "from tensorflow.keras.applications.vgg16 import VGG16, preprocess_input, decode_predictions\n",
    "from tensorflow.keras.preprocessing.image import load_img, img_to_array\n",
    "from signxai import explain, list_methods\n",
    "from signxai.utils.utils import normalize_heatmap\n",
    "\n",
    "# Load the pre-trained model\n",
    "model = VGG16(weights='imagenet')\n",
    "\n",
    "# Remove softmax layer (critical for explanations)\n",
    "model.layers[-1].activation = None\n",
    "\n",
    "# Load and preprocess the image\n",
    "img_path = \"dog.jpg\"\n",
    "img = load_img(img_path, target_size=(224, 224))\n",
    "x = img_to_array(img)\n",
    "x = np.expand_dims(x, axis=0)\n",
    "x = preprocess_input(x)\n",
    "\n",
    "# Make prediction\n",
    "preds = model.predict(x)\n",
    "top_pred_idx = np.argmax(preds[0])\n",
    "print(f\"Predicted class: {decode_predictions(preds, top=1)[0][0][1]}\")"
   ]
  },
  {
   "cell_type": "code",
   "execution_count": null,
   "metadata": {},
   "outputs": [],
   "source": [
    "# Calculate explanations with different methods\n",
    "methods = [\n",
    "    'gradient',\n",
    "    'gradient_x_input',\n",
    "    'integrated_gradients',\n",
    "    'smoothgrad',\n",
    "    'grad_cam',\n",
    "    'lrp_z',\n",
    "    'lrp_epsilon_0_1',\n",
    "    'lrpsign_z'  # The SIGN method\n",
    "]\n",
    "\n",
    "explanations = {}\n",
    "for method in methods:\n",
    "    explanations[method] = explain(\n",
    "        model=model,\n",
    "        x=x,\n",
    "        method_name=method,\n",
    "        target_class=top_pred_idx\n",
    "    )"
   ]
  },
  {
   "cell_type": "code",
   "execution_count": null,
   "metadata": {},
   "outputs": [],
   "source": [
    "# Visualize explanations\n",
    "fig, axs = plt.subplots(2, 4, figsize=(20, 10))\n",
    "axs = axs.flatten()\n",
    "\n",
    "# Original image\n",
    "axs[0].imshow(img)\n",
    "axs[0].set_title('Original Image', fontsize=14)\n",
    "axs[0].axis('off')\n",
    "\n",
    "# Explanations\n",
    "for i, method in enumerate(methods[:7]):\n",
    "    axs[i+1].imshow(normalize_heatmap(explanations[method][0]), cmap='seismic', clim=(-1, 1))\n",
    "    axs[i+1].set_title(method, fontsize=14)\n",
    "    axs[i+1].axis('off')\n",
    "\n",
    "plt.tight_layout()\n",
    "plt.show()"
   ]
  },
  {
   "cell_type": "code",
   "execution_count": null,
   "metadata": {},
   "outputs": [],
   "source": [
    "# Highlight the difference between standard LRP and SIGN\n",
    "plt.figure(figsize=(15, 5))\n",
    "\n",
    "plt.subplot(1, 3, 1)\n",
    "plt.imshow(img)\n",
    "plt.title('Original Image', fontsize=14)\n",
    "plt.axis('off')\n",
    "\n",
    "plt.subplot(1, 3, 2)\n",
    "plt.imshow(normalize_heatmap(explanations['lrp_z'][0]), cmap='seismic', clim=(-1, 1))\n",
    "plt.title('LRP-Z', fontsize=14)\n",
    "plt.axis('off')\n",
    "\n",
    "plt.subplot(1, 3, 3)\n",
    "plt.imshow(normalize_heatmap(explanations['lrpsign_z'][0]), cmap='seismic', clim=(-1, 1))\n",
    "plt.title('LRP-SIGN', fontsize=14)\n",
    "plt.axis('off')\n",
    "\n",
    "plt.tight_layout()\n",
    "plt.show()"
   ]
  }
 ],
 "metadata": {
  "kernelspec": {
   "display_name": "Python 3",
   "language": "python",
   "name": "python3"
  },
  "language_info": {
   "codemirror_mode": {
    "name": "ipython",
    "version": 3
   },
   "file_extension": ".py",
   "mimetype": "text/x-python",
   "name": "python",
   "nbconvert_exporter": "python",
   "pygments_lexer": "ipython3",
   "version": "3.8.0"
  }
 },
 "nbformat": 4,
 "nbformat_minor": 4
}
