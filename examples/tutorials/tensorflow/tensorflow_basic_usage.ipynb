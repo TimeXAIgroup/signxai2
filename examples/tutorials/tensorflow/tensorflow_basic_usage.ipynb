{
  "cells": [
    {
      "cell_type": "markdown",
      "metadata": {},
      "source": [
        "# SignXAI2 with TensorFlow - Basic Usage\n\n",
        "This tutorial demonstrates TensorFlow/Keras models with dynamic method parsing.\n\n",
        "## Key Features:\n",
        "- Dynamic method parsing\n",
        "- Unified API\n",
        "- No wrapper functions"
      ]
    },
    {
      "cell_type": "code",
      "execution_count": null,
      "metadata": {},
      "outputs": [],
      "source": [
        "import tensorflow as tf\n",
        "import numpy as np\n",
        "from signxai.api import explain\n",
        "from signxai.utils.utils import remove_softmax"
      ]
    },
    {
      "cell_type": "code",
      "execution_count": null,
      "metadata": {},
      "outputs": [],
      "source": [
        "# Load a pre-trained model\n",
        "from tensorflow.keras.applications import VGG16\n",
        "model = VGG16(weights='imagenet')\n\n",
        "# Dynamic method examples\n",
        "methods = [\n",
        "    'gradient',\n",
        "    'gradient_x_input',\n",
        "    'smoothgrad_noise_0_3_samples_50',\n",
        "    'integrated_gradients_steps_100',\n",
        "    'lrp_epsilon_0_25'\n",
        "]\n\n",
        "# Generate explanations\n",
        "for method in methods:\n",
        "    explanation = explain(model, input_image, method_name=method)"
      ]
    }
  ],
  "metadata": {
    "kernelspec": {
      "display_name": "Python 3",
      "language": "python",
      "name": "python3"
    },
    "language_info": {
      "name": "python",
      "version": "3.10.0"
    }
  },
  "nbformat": 4,
  "nbformat_minor": 4
}