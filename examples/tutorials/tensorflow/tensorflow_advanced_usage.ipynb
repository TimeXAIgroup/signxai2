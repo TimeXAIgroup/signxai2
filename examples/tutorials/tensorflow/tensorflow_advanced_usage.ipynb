{
  "cells": [
    {
      "cell_type": "markdown",
      "metadata": {},
      "source": [
        "# SignXAI2 with TensorFlow - Advanced Usage\n\n",
        "Advanced TensorFlow features with dynamic method parsing.\n\n",
        "## Topics:\n",
        "- Complex method combinations\n",
        "- Custom layer handling\n",
        "- Performance optimization"
      ]
    },
    {
      "cell_type": "code",
      "execution_count": null,
      "metadata": {},
      "outputs": [],
      "source": [
        "import tensorflow as tf\n",
        "from signxai.api import explain\n",
        "from signxai.utils.utils import remove_softmax"
      ]
    },
    {
      "cell_type": "code",
      "execution_count": null,
      "metadata": {},
      "outputs": [],
      "source": [
        "# Advanced method combinations\n",
        "complex_methods = [\n",
        "    'gradient_x_input_x_sign_mu_neg_0_5',\n",
        "    'lrp_epsilon_50_x_sign',\n",
        "    'smoothgrad_noise_0_5_samples_100_x_input'\n",
        "]\n\n",
        "for method in complex_methods:\n",
        "    explanation = explain(model, input_data, method_name=method)"
      ]
    }
  ],
  "metadata": {
    "kernelspec": {
      "display_name": "Python 3",
      "language": "python",
      "name": "python3"
    },
    "language_info": {
      "name": "python",
      "version": "3.10.0"
    }
  },
  "nbformat": 4,
  "nbformat_minor": 4
}