{
 "cells": [
  {
   "cell_type": "markdown",
   "metadata": {},
   "source": [
    "# SignXAI2 TensorFlow Advanced Tutorial - Image Classification\n",
    "\n",
    "This advanced tutorial demonstrates sophisticated analysis techniques using SignXAI2 with TensorFlow, including class-specific explanations and positive/negative contribution separation.\n",
    "\n",
    "## Prerequisites\n",
    "\n",
    "Complete the basic TensorFlow tutorial first, and ensure you have the required data and model setup.\n",
    "\n",
    "⚠️ **Data Requirements**: This tutorial requires example data from the GitHub repository."
   ]
  },
  {
   "cell_type": "markdown",
   "metadata": {},
   "source": [
    "## Setup and Basic Model Loading"
   ]
  },
  {
   "cell_type": "code",
   "execution_count": null,
   "metadata": {},
   "outputs": [],
   "source": [
    "import numpy as np\n",
    "import matplotlib.pyplot as plt\n",
    "from tensorflow.keras.applications.vgg16 import VGG16, preprocess_input, decode_predictions\n",
    "from tensorflow.keras.preprocessing.image import load_img, img_to_array\n",
    "from signxai import explain, list_methods\n",
    "from signxai.utils.utils import normalize_heatmap\n",
    "import urllib.request\n",
    "\n",
    "# Download an example image\n",
    "url = \"https://farm1.staticflickr.com/148/414245159_7549a49046_z.jpg\"\n",
    "urllib.request.urlretrieve(url, \"dog.jpg\")\n",
    "\n",
    "# Load the pre-trained model\n",
    "model = VGG16(weights='imagenet')\n",
    "\n",
    "# Remove softmax layer (critical for explanations)\n",
    "model.layers[-1].activation = None\n",
    "\n",
    "# Load and preprocess the image\n",
    "img_path = \"dog.jpg\"\n",
    "img = load_img(img_path, target_size=(224, 224))\n",
    "x = img_to_array(img)\n",
    "x = np.expand_dims(x, axis=0)\n",
    "x = preprocess_input(x)\n",
    "\n",
    "# Make prediction\n",
    "preds = model.predict(x)\n",
    "top_pred_idx = np.argmax(preds[0])\n",
    "print(f\"Predicted class: {decode_predictions(preds, top=1)[0][0][1]}\")"
   ]
  },
  {
   "cell_type": "markdown",
   "metadata": {},
   "source": [
    "## Advanced Analysis\n",
    "\n",
    "Let's compare class-specific explanations:"
   ]
  },
  {
   "cell_type": "code",
   "execution_count": null,
   "metadata": {},
   "outputs": [],
   "source": "# Get top 3 predicted classes\ntop_classes = np.argsort(preds[0])[-3:][::-1]\nclass_names = [decode_predictions(preds, top=3)[0][i][1] for i in range(3)]\n\n# Calculate explanations for each class using a complex method with parameter chaining\n# This demonstrates: gradient (base) + x_input (multiply by input) + x_sign (apply sign) + mu_neg_0_5 (parameter)\nclass_explanations = {}\nfor idx in top_classes:\n    class_explanations[idx] = explain(\n        model=model,\n        x=x,\n        method_name='gradient_x_input_x_sign_mu_neg_0_5',\n        target_class=idx\n    )\n\n# Visualize\nfig, axs = plt.subplots(1, 4, figsize=(20, 5))\n\n# Original image\naxs[0].imshow(img)\naxs[0].set_title('Original Image', fontsize=14)\naxs[0].axis('off')\n\n# Class-specific explanations\nfor i, (idx, name) in enumerate(zip(top_classes, class_names)):\n    axs[i+1].imshow(normalize_heatmap(class_explanations[idx][0]), cmap='seismic', clim=(-1, 1))\n    axs[i+1].set_title(f'Class: {name}', fontsize=14)\n    axs[i+1].axis('off')\n\nplt.tight_layout()\nplt.show()"
  },
  {
   "cell_type": "markdown",
   "metadata": {},
   "source": [
    "## Positive and Negative Contribution Separation\n",
    "\n",
    "We can also highlight the positive and negative contributions separately:"
   ]
  },
  {
   "cell_type": "code",
   "execution_count": null,
   "metadata": {},
   "outputs": [],
   "source": "# Choose a complex method with parameter chaining and generate explanation\n# This showcases: gradient (base) + x_input (multiply by input) + x_sign (apply sign) + mu_neg_0_5 (parameter)\nmethod = 'gradient_x_input_x_sign_mu_neg_0_5'\nexplanation = explain(\n    model=model,\n    x=x,\n    method_name=method,\n    target_class=top_pred_idx\n)[0]\n\n# Separate positive and negative contributions\npos_expl = np.maximum(0, explanation)\nneg_expl = np.minimum(0, explanation)\n\n# Normalize\npos_norm = pos_expl / np.max(pos_expl) if np.max(pos_expl) > 0 else pos_expl\nneg_norm = neg_expl / np.min(neg_expl) if np.min(neg_expl) < 0 else neg_expl\n\n# Visualize\nfig, axs = plt.subplots(1, 4, figsize=(20, 5))\n\n# Original image\naxs[0].imshow(img)\naxs[0].set_title('Original Image', fontsize=14)\naxs[0].axis('off')\n\n# Combined explanation\naxs[1].imshow(normalize_heatmap(explanation), cmap='seismic', clim=(-1, 1))\naxs[1].set_title(f'{method} - Combined', fontsize=14)\naxs[1].axis('off')\n\n# Positive contributions\naxs[2].imshow(pos_norm, cmap='Reds')\naxs[2].set_title('Positive Contributions', fontsize=14)\naxs[2].axis('off')\n\n# Negative contributions\naxs[3].imshow(-neg_norm, cmap='Blues')\naxs[3].set_title('Negative Contributions', fontsize=14)\naxs[3].axis('off')\n\nplt.tight_layout()\nplt.show()"
  },
  {
   "cell_type": "markdown",
   "metadata": {},
   "source": [
    "## Summary\n",
    "\n",
    "In this advanced tutorial, we've demonstrated how to:\n",
    "\n",
    "1. **Class-specific Analysis**: Generate explanations for different predicted classes to understand what features the model associates with each class\n",
    "2. **Contribution Separation**: Separate positive and negative contributions to better understand how different regions support or oppose the prediction\n",
    "3. **Advanced Visualization**: Create comprehensive visualizations that reveal different aspects of the model's decision-making process\n",
    "\n",
    "These techniques provide deeper insights into model behavior and can help identify potential biases or areas for model improvement."
   ]
  }
 ],
 "metadata": {
  "kernelspec": {
   "display_name": "Python 3",
   "language": "python",
   "name": "python3"
  },
  "language_info": {
   "codemirror_mode": {
    "name": "ipython",
    "version": 3
   },
   "file_extension": ".py",
   "mimetype": "text/x-python",
   "name": "python",
   "nbconvert_exporter": "python",
   "pygments_lexer": "ipython3",
   "version": "3.8.0"
  }
 },
 "nbformat": 4,
 "nbformat_minor": 4
}