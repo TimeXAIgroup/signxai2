{
  "cells": [
    {
      "cell_type": "markdown",
      "metadata": {},
      "source": [
        "# SignXAI2 TensorFlow - Time Series (ECG) Analysis\n\n",
        "ECG analysis with TensorFlow using dynamic method parsing.\n\n",
        "## Features:\n",
        "- 12-lead ECG support\n",
        "- Dynamic parameters\n",
        "- Real-time visualization"
      ]
    },
    {
      "cell_type": "code",
      "execution_count": null,
      "metadata": {},
      "outputs": [],
      "source": [
        "import tensorflow as tf\n",
        "import numpy as np\n",
        "from signxai.api import explain\n",
        "from signxai.utils.utils import remove_softmax\n",
        "from utils.ecg_data import load_and_preprocess_ecg\n",
        "from utils.ecg_visualization import plot_ecg"
      ]
    },
    {
      "cell_type": "code",
      "execution_count": null,
      "metadata": {},
      "outputs": [],
      "source": [
        "# ECG-specific methods with dynamic parameters\n",
        "ecg_methods = [\n",
        "    'gradient',\n",
        "    'gradient_x_input_x_sign_mu_neg_0_5',\n",
        "    'smoothgrad_noise_0_3_samples_50',\n",
        "    'integrated_gradients_steps_100'\n",
        "]\n\n",
        "# Process ECG data\n",
        "for method in ecg_methods:\n",
        "    explanation = explain(model, ecg_data, method_name=method)\n",
        "    plot_ecg(ecg_data, explanation, title=f'TensorFlow: {method}')"
      ]
    }
  ],
  "metadata": {
    "kernelspec": {
      "display_name": "Python 3",
      "language": "python",
      "name": "python3"
    },
    "language_info": {
      "name": "python",
      "version": "3.10.0"
    }
  },
  "nbformat": 4,
  "nbformat_minor": 4
}