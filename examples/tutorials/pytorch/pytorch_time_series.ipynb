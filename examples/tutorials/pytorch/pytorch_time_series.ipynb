{
  "cells": [
    {
      "cell_type": "markdown",
      "metadata": {},
      "source": [
        "# SignXAI2 PyTorch - Time Series (ECG) Analysis\n\n",
        "This tutorial demonstrates ECG time series analysis with dynamic method parsing.\n\n",
        "## Features:\n",
        "- 12-lead ECG visualization\n",
        "- Dynamic method parameters\n",
        "- Time series specific methods"
      ]
    },
    {
      "cell_type": "code",
      "execution_count": null,
      "metadata": {},
      "outputs": [],
      "source": [
        "import torch\n",
        "import numpy as np\n",
        "from signxai.api import explain\n",
        "from signxai.torch_signxai.utils import remove_softmax\n",
        "from utils.ecg_data import load_and_preprocess_ecg\n",
        "from utils.ecg_visualization import plot_ecg"
      ]
    },
    {
      "cell_type": "code",
      "execution_count": null,
      "metadata": {},
      "outputs": [],
      "source": [
        "# Dynamic method examples for ECG\n",
        "ecg_methods = [\n",
        "    'gradient',\n",
        "    'gradient_x_input_x_sign_mu_neg_0_5',\n",
        "    'smoothgrad_noise_0_3_samples_50',\n",
        "    'integrated_gradients_steps_100',\n",
        "    'lrp_epsilon_0_25'\n",
        "]\n\n",
        "# Load ECG data\n",
        "ecg_data = load_and_preprocess_ecg(record_id='03509_hr')\n\n",
        "# Generate explanations\n",
        "for method in ecg_methods:\n",
        "    explanation = explain(model, ecg_data, method_name=method)\n",
        "    plot_ecg(ecg_data, explanation, title=method)"
      ]
    }
  ],
  "metadata": {
    "kernelspec": {
      "display_name": "Python 3",
      "language": "python",
      "name": "python3"
    },
    "language_info": {
      "name": "python",
      "version": "3.10.0"
    }
  },
  "nbformat": 4,
  "nbformat_minor": 4
}