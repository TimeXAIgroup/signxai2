{
  "cells": [
    {
      "cell_type": "markdown",
      "metadata": {},
      "source": [
        "# SignXAI2 with PyTorch - Advanced Usage\n\n",
        "This tutorial covers advanced features using dynamic method parsing.\n\n",
        "## Advanced Features:\n",
        "- Complex method combinations\n",
        "- Custom parameter tuning\n",
        "- Model-specific optimizations\n",
        "- Batch processing"
      ]
    },
    {
      "cell_type": "code",
      "execution_count": null,
      "metadata": {},
      "outputs": [],
      "source": [
        "import torch\n",
        "import numpy as np\n",
        "from signxai.api import explain\n",
        "from signxai.torch_signxai.utils import remove_softmax"
      ]
    },
    {
      "cell_type": "markdown",
      "metadata": {},
      "source": [
        "## Advanced Method Combinations\n\n",
        "Dynamic parsing allows complex combinations:"
      ]
    },
    {
      "cell_type": "code",
      "execution_count": null,
      "metadata": {},
      "outputs": [],
      "source": [
        "# Complex combinations with parameters\n",
        "advanced_methods = [\n",
        "    'gradient_x_input_x_sign_mu_neg_0_5',\n",
        "    'lrp_epsilon_50_x_sign',\n",
        "    'lrpsign_epsilon_0_25_std_x',\n",
        "    'smoothgrad_noise_0_3_samples_50_x_sign',\n",
        "    'integrated_gradients_steps_100_x_input'\n",
        "]\n\n",
        "# Apply each method\n",
        "for method in advanced_methods:\n",
        "    explanation = explain(model, input_tensor, method_name=method)"
      ]
    }
  ],
  "metadata": {
    "kernelspec": {
      "display_name": "Python 3",
      "language": "python",
      "name": "python3"
    },
    "language_info": {
      "name": "python",
      "version": "3.10.0"
    }
  },
  "nbformat": 4,
  "nbformat_minor": 4
}